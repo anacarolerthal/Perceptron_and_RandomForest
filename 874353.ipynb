{
 "cells": [
  {
   "cell_type": "markdown",
   "metadata": {},
   "source": [
    "#874353\n",
    "\n",
    "# A2 Técnicas de Algoritmo em Ciência de Dados"
   ]
  },
  {
   "cell_type": "code",
   "execution_count": 5,
   "metadata": {},
   "outputs": [],
   "source": [
    "import pandas as pd\n",
    "import numpy as np\n",
    "import matplotlib.pyplot as plt\n",
    "import seaborn as sns\n",
    "\n",
    "from sklearn.model_selection import train_test_split\n",
    "from sklearn.base import BaseEstimator\n",
    "from sklearn.neural_network import MLPRegressor\n",
    "from sklearn.metrics import accuracy_score, mean_squared_error, average_precision_score, roc_auc_score, confusion_matrix, ConfusionMatrixDisplay, precision_score, recall_score, roc_curve, precision_recall_curve\n",
    "from sklearn.neighbors import KNeighborsClassifier\n",
    "from sklearn.ensemble import AdaBoostClassifier\n",
    "from sklearn.naive_bayes import GaussianNB\n",
    "\n",
    "import warnings\n",
    "warnings.simplefilter(action='ignore', category=FutureWarning)\n",
    "\n",
    "from collections import Counter "
   ]
  },
  {
   "cell_type": "markdown",
   "metadata": {},
   "source": [
    "## Part 1 – Multi Layer Perceptron for regression\n",
    "\n",
    "First, we want to load the datasetwith pandas and get a sample out of it:"
   ]
  },
  {
   "cell_type": "code",
   "execution_count": 6,
   "metadata": {},
   "outputs": [],
   "source": [
    "data1 = pd.read_table('Part 1.tsv')\n",
    "data1 = data1.sample(2000)"
   ]
  },
  {
   "cell_type": "markdown",
   "metadata": {},
   "source": [
    "We'll split it into X (features) and y (the target column), and train and test sets, 70% of the data being for training:"
   ]
  },
  {
   "cell_type": "code",
   "execution_count": 7,
   "metadata": {},
   "outputs": [],
   "source": [
    "X = data1[['feat_0', 'feat_1', 'feat_2', 'feat_3', 'feat_4', 'feat_5']].to_numpy()\n",
    "y = data1['target']\n",
    "X_train, X_test, y_train, y_test = train_test_split(X, y, test_size = 0.3)"
   ]
  },
  {
   "cell_type": "markdown",
   "metadata": {},
   "source": [
    "Now we can move on to the Perceptron Regressor we wish to implement. Keep in mind we wish to have an algorithm with 5 hidden layers:"
   ]
  },
  {
   "cell_type": "code",
   "execution_count": 8,
   "metadata": {},
   "outputs": [],
   "source": [
    "# functions for internal calculation\n",
    "def sigmoid(z):\n",
    "    return 1.0 / (1.0 + np.exp(-z))\n",
    "\n",
    "def sigmoid_derivate(z):\n",
    "    return sigmoid(z) * (1.0 - sigmoid(z))\n",
    "\n",
    "class PerceptronRegressor(BaseEstimator):\n",
    "\n",
    "    def __init__(self, n_hidden=100, epochs=100, learning_rate=0.0001, batch_size=100):\n",
    "        self.n_hidden = n_hidden # arbitrary, but i chose to keep it easy to access (mostly to addapt for exercise 2)\n",
    "        self.epochs = epochs \n",
    "        self.learning_rate = learning_rate\n",
    "        self.batch_size = batch_size\n",
    "        self.weights = []\n",
    "\n",
    "    # forward propagation\n",
    "    def forward_prop(self, X): \n",
    "        self.z = []\n",
    "        self.h = []\n",
    "\n",
    "        # first layer\n",
    "        self.z.append(X)\n",
    "        self.h.append(X)\n",
    "        \n",
    "        # hidden layers\n",
    "        for i in range(1,6):\n",
    "            self.z.append(self.h[i-1] @ self.weights[i-1])\n",
    "            self.h.append(sigmoid(self.z[i]))\n",
    "            self.h[i] = np.c_[np.ones((self.h[i].shape[0], 1)), self.h[i]]\n",
    "\n",
    "        # output layer\n",
    "        self.z.append(self.h[5] @ self.weights[5])\n",
    "        self.h.append(self.z[6])\n",
    "\n",
    "        # return last one\n",
    "        return self.h[6]\n",
    "\n",
    "    def backward_prop(self, X, y):\n",
    "        self.dweights = []\n",
    "        self.delta = []\n",
    "\n",
    "        # output layer (here we go backwards)\n",
    "        self.delta.append(self.h[-1] - y) #delta[0] = delta5\n",
    "\n",
    "        # other layers\n",
    "        for i in range(4, -1, -1):\n",
    "            self.delta.append(self.delta[-1] @ self.weights[i+1][1:,:].T * sigmoid_derivate(self.z[i + 1]) )#delta[5-i] = delta (i)\n",
    "\n",
    "        # corrects our list of deltas so that we can update the weights\n",
    "        self.delta.reverse()\n",
    "\n",
    "        # weight update\n",
    "        for i in range(len(self.weights)):\n",
    "            self.dweights.append(self.h[i].T @ self.delta[i])\n",
    "        return self.dweights\n",
    "\n",
    "    # auxiliar functions\n",
    "    def def_weights(self,input_dim, output_dim): # for initializing weights\n",
    "        return np.random.randn(input_dim , output_dim)\n",
    "    \n",
    "    def update_weights(self, dweights): # for updating weights\n",
    "        for i in range(len(self.weights)):\n",
    "            self.weights[i] -= self.learning_rate * dweights[i]\n",
    "    \n",
    "    def fit(self, X, y):\n",
    "        X_with_bias = np.hstack([np.ones((X.shape[0], 1)), X]) # adds bias to X\n",
    "        y_corrected = y[:,np.newaxis] # y gets second dimension\n",
    "\n",
    "        n_samples, n_features = X_with_bias.shape\n",
    "\n",
    "        # initializes weights\n",
    "        self.weights.append(self.def_weights(n_features, self.n_hidden))\n",
    "        for i in range (1,5):\n",
    "            self.weights.append(self.def_weights(self.n_hidden+ 1, self.n_hidden))\n",
    "        self.weights.append(self.def_weights(self.n_hidden+1, 1))\n",
    "\n",
    "        # for each epoch, for each batch, do forward and backward propagation updating weights\n",
    "        n_batches = (n_samples + self.batch_size - 1)//self.batch_size\n",
    "        for i in range(self.epochs): \n",
    "            for j in range(n_batches):\n",
    "                X_batch = X_with_bias[j * self.batch_size: (j+1) * self.batch_size]\n",
    "                y_batch = y_corrected[j * self.batch_size: (j+1) * self.batch_size]\n",
    "                self.h[6] = self.forward_prop(X_batch)\n",
    "                dweights = self.backward_prop(X_batch, y_batch)\n",
    "                self.update_weights(dweights)\n",
    "\n",
    "    def predict(self, X):\n",
    "        X_with_bias = np.hstack([np.ones((X.shape[0], 1)), X])\n",
    "        return self.forward_prop(X_with_bias)"
   ]
  },
  {
   "cell_type": "markdown",
   "metadata": {},
   "source": [
    "Check below the first 10 rows of comparison between my model's previsions and the y_test actual values:"
   ]
  },
  {
   "cell_type": "code",
   "execution_count": 9,
   "metadata": {},
   "outputs": [
    {
     "data": {
      "text/plain": [
       "array([[ 85.01643887,  80.67968208],\n",
       "       [207.99284105, 205.03416682],\n",
       "       [-48.27786347, -50.28614773],\n",
       "       [-93.49957083, -96.42613744],\n",
       "       [-20.17365598, -20.5739661 ],\n",
       "       [-66.89683418, -67.2542806 ],\n",
       "       [ 25.75227626,  21.89892829],\n",
       "       [ 62.75492962,  58.89953218],\n",
       "       [ 20.81430868,  15.15136612],\n",
       "       [  1.2614938 ,  -2.66872623]])"
      ]
     },
     "execution_count": 9,
     "metadata": {},
     "output_type": "execute_result"
    }
   ],
   "source": [
    "perceptron1 = PerceptronRegressor(epochs=100, learning_rate=0.0001, batch_size=100)\n",
    "perceptron1.fit(X_train, y_train)\n",
    "y_predicted1 = perceptron1.predict(X_test)\n",
    "y_comparison1= np.c_[y_predicted1, y_test]\n",
    "y_comparison1[0:10]"
   ]
  },
  {
   "cell_type": "markdown",
   "metadata": {},
   "source": [
    "Now we'll do the same for sklearn's native algorithm of a Perceptron Regressor, using mostly the same hyperparameters, but a higher learning rate, as using the same one that worked for my model wasn't enough for it to converge:"
   ]
  },
  {
   "cell_type": "code",
   "execution_count": 10,
   "metadata": {},
   "outputs": [
    {
     "name": "stderr",
     "output_type": "stream",
     "text": [
      "c:\\Users\\Carol Erthal\\AppData\\Local\\Programs\\Python\\Python310\\lib\\site-packages\\sklearn\\neural_network\\_multilayer_perceptron.py:702: ConvergenceWarning: Stochastic Optimizer: Maximum iterations (100) reached and the optimization hasn't converged yet.\n",
      "  warnings.warn(\n"
     ]
    },
    {
     "data": {
      "text/plain": [
       "array([[ 80.97756106,  80.67968208],\n",
       "       [205.31542732, 205.03416682],\n",
       "       [-50.11090287, -50.28614773],\n",
       "       [-96.14539741, -96.42613744],\n",
       "       [-20.0789243 , -20.5739661 ],\n",
       "       [-66.58614008, -67.2542806 ],\n",
       "       [ 21.90152581,  21.89892829],\n",
       "       [ 59.03589594,  58.89953218],\n",
       "       [ 15.45137365,  15.15136612],\n",
       "       [ -2.75203499,  -2.66872623]])"
      ]
     },
     "execution_count": 10,
     "metadata": {},
     "output_type": "execute_result"
    }
   ],
   "source": [
    "perceptron2 = MLPRegressor(hidden_layer_sizes=(100,), activation='logistic', learning_rate_init=0.01, batch_size=30, max_iter=100)\n",
    "perceptron2.fit(X_train, y_train)\n",
    "y_predicted2 = perceptron2.predict(X_test)\n",
    "y_comparison2= np.c_[y_predicted2, y_test]\n",
    "y_comparison2[0:10]"
   ]
  },
  {
   "cell_type": "markdown",
   "metadata": {},
   "source": [
    "Check the square of the mean squared error between predictions and actual values for my algorithm:"
   ]
  },
  {
   "cell_type": "code",
   "execution_count": 11,
   "metadata": {},
   "outputs": [
    {
     "data": {
      "text/plain": [
       "5.849786360726322"
      ]
     },
     "execution_count": 11,
     "metadata": {},
     "output_type": "execute_result"
    }
   ],
   "source": [
    "error1 = mean_squared_error(y_test, y_predicted1)\n",
    "error1**0.5"
   ]
  },
  {
   "cell_type": "markdown",
   "metadata": {},
   "source": [
    "And also for the MLP Regressor"
   ]
  },
  {
   "cell_type": "code",
   "execution_count": 12,
   "metadata": {},
   "outputs": [
    {
     "data": {
      "text/plain": [
       "4.20509143209696"
      ]
     },
     "execution_count": 12,
     "metadata": {},
     "output_type": "execute_result"
    }
   ],
   "source": [
    "error2 = mean_squared_error(y_test, y_predicted2)\n",
    "error2**0.5"
   ]
  },
  {
   "cell_type": "markdown",
   "metadata": {},
   "source": [
    "Everything turned out pretty functionable!"
   ]
  },
  {
   "cell_type": "markdown",
   "metadata": {},
   "source": [
    "## Part 2 – Multi Layer Perceptron for classification\n",
    "\n",
    "Let's load the dataset part 2:"
   ]
  },
  {
   "cell_type": "code",
   "execution_count": 13,
   "metadata": {},
   "outputs": [
    {
     "data": {
      "text/html": [
       "<div>\n",
       "<style scoped>\n",
       "    .dataframe tbody tr th:only-of-type {\n",
       "        vertical-align: middle;\n",
       "    }\n",
       "\n",
       "    .dataframe tbody tr th {\n",
       "        vertical-align: top;\n",
       "    }\n",
       "\n",
       "    .dataframe thead th {\n",
       "        text-align: right;\n",
       "    }\n",
       "</style>\n",
       "<table border=\"1\" class=\"dataframe\">\n",
       "  <thead>\n",
       "    <tr style=\"text-align: right;\">\n",
       "      <th></th>\n",
       "      <th>feat_0</th>\n",
       "      <th>feat_1</th>\n",
       "      <th>feat_2</th>\n",
       "      <th>feat_3</th>\n",
       "      <th>target</th>\n",
       "    </tr>\n",
       "  </thead>\n",
       "  <tbody>\n",
       "    <tr>\n",
       "      <th>876</th>\n",
       "      <td>1.683637</td>\n",
       "      <td>0.347506</td>\n",
       "      <td>2.089558</td>\n",
       "      <td>0.386093</td>\n",
       "      <td>1.0</td>\n",
       "    </tr>\n",
       "    <tr>\n",
       "      <th>1062</th>\n",
       "      <td>-0.951310</td>\n",
       "      <td>-0.203457</td>\n",
       "      <td>-1.161241</td>\n",
       "      <td>-0.221771</td>\n",
       "      <td>0.0</td>\n",
       "    </tr>\n",
       "    <tr>\n",
       "      <th>9450</th>\n",
       "      <td>1.349053</td>\n",
       "      <td>1.213308</td>\n",
       "      <td>-0.882007</td>\n",
       "      <td>0.785083</td>\n",
       "      <td>0.0</td>\n",
       "    </tr>\n",
       "    <tr>\n",
       "      <th>166</th>\n",
       "      <td>0.769419</td>\n",
       "      <td>1.338744</td>\n",
       "      <td>-2.271524</td>\n",
       "      <td>0.776870</td>\n",
       "      <td>0.0</td>\n",
       "    </tr>\n",
       "    <tr>\n",
       "      <th>4403</th>\n",
       "      <td>-0.545041</td>\n",
       "      <td>-1.160684</td>\n",
       "      <td>2.189746</td>\n",
       "      <td>-0.658374</td>\n",
       "      <td>0.0</td>\n",
       "    </tr>\n",
       "    <tr>\n",
       "      <th>...</th>\n",
       "      <td>...</td>\n",
       "      <td>...</td>\n",
       "      <td>...</td>\n",
       "      <td>...</td>\n",
       "      <td>...</td>\n",
       "    </tr>\n",
       "    <tr>\n",
       "      <th>9951</th>\n",
       "      <td>0.309729</td>\n",
       "      <td>0.160559</td>\n",
       "      <td>0.120175</td>\n",
       "      <td>0.120199</td>\n",
       "      <td>1.0</td>\n",
       "    </tr>\n",
       "    <tr>\n",
       "      <th>3232</th>\n",
       "      <td>1.604813</td>\n",
       "      <td>1.961891</td>\n",
       "      <td>-2.467182</td>\n",
       "      <td>1.197799</td>\n",
       "      <td>0.0</td>\n",
       "    </tr>\n",
       "    <tr>\n",
       "      <th>9874</th>\n",
       "      <td>1.143077</td>\n",
       "      <td>1.227366</td>\n",
       "      <td>-1.292332</td>\n",
       "      <td>0.766636</td>\n",
       "      <td>0.0</td>\n",
       "    </tr>\n",
       "    <tr>\n",
       "      <th>7849</th>\n",
       "      <td>0.505372</td>\n",
       "      <td>0.193975</td>\n",
       "      <td>0.382031</td>\n",
       "      <td>0.161520</td>\n",
       "      <td>1.0</td>\n",
       "    </tr>\n",
       "    <tr>\n",
       "      <th>8699</th>\n",
       "      <td>0.817400</td>\n",
       "      <td>1.177498</td>\n",
       "      <td>-1.743980</td>\n",
       "      <td>0.700781</td>\n",
       "      <td>0.0</td>\n",
       "    </tr>\n",
       "  </tbody>\n",
       "</table>\n",
       "<p>1000 rows × 5 columns</p>\n",
       "</div>"
      ],
      "text/plain": [
       "        feat_0    feat_1    feat_2    feat_3  target\n",
       "876   1.683637  0.347506  2.089558  0.386093     1.0\n",
       "1062 -0.951310 -0.203457 -1.161241 -0.221771     0.0\n",
       "9450  1.349053  1.213308 -0.882007  0.785083     0.0\n",
       "166   0.769419  1.338744 -2.271524  0.776870     0.0\n",
       "4403 -0.545041 -1.160684  2.189746 -0.658374     0.0\n",
       "...        ...       ...       ...       ...     ...\n",
       "9951  0.309729  0.160559  0.120175  0.120199     1.0\n",
       "3232  1.604813  1.961891 -2.467182  1.197799     0.0\n",
       "9874  1.143077  1.227366 -1.292332  0.766636     0.0\n",
       "7849  0.505372  0.193975  0.382031  0.161520     1.0\n",
       "8699  0.817400  1.177498 -1.743980  0.700781     0.0\n",
       "\n",
       "[1000 rows x 5 columns]"
      ]
     },
     "execution_count": 13,
     "metadata": {},
     "output_type": "execute_result"
    }
   ],
   "source": [
    "data2 = pd.read_table('Part 2.tsv')\n",
    "data2 = data2.sample(1000)\n",
    "data2"
   ]
  },
  {
   "cell_type": "markdown",
   "metadata": {},
   "source": [
    "Once again we'll split out data into X and y, training and testing sets"
   ]
  },
  {
   "cell_type": "code",
   "execution_count": 14,
   "metadata": {},
   "outputs": [],
   "source": [
    "X2 = data2[['feat_0', 'feat_1', 'feat_2', 'feat_3']].to_numpy()\n",
    "y2 = data2['target'].to_numpy()\n",
    "X_train2, X_test2, y_train2, y_test2 = train_test_split(X2, y2, test_size = 0.3)"
   ]
  },
  {
   "cell_type": "markdown",
   "metadata": {},
   "source": [
    "Now that we've organized our data, let's work on addapting our code for the Perceptron Regressor towards a Classifier, remebering that we should also be able to receive a list of hidden layers dimensions:"
   ]
  },
  {
   "cell_type": "code",
   "execution_count": 15,
   "metadata": {},
   "outputs": [],
   "source": [
    "# functions for internal calculation\n",
    "def sigmoid(z):\n",
    "    return 1.0 / (1.0 + np.exp(-z))\n",
    "\n",
    "def sigmoid_derivate(z):\n",
    "    return sigmoid(z) * (1.0 - sigmoid(z))\n",
    "\n",
    "def cost_function(y, y_pred):\n",
    "    return -np.sum(y*(np.log(y_pred)) + (1 - y)*np.log(1 - y_pred)) / y.shape[0]\n",
    "\n",
    "def cost_gradient(y, y_pred):\n",
    "    return -np.divide(y, y_pred) + np.divide(1.0 - y, 1.0 - y_pred)\n",
    "\n",
    "class PerceptronClassifier(BaseEstimator):\n",
    "    def  __init__(self, hidden_layer_dimensions=[4, 4, 4, 4], epochs=100, learning_rate=0.0001, batch_size=32):\n",
    "        self.hidden_layer_dimensions = hidden_layer_dimensions\n",
    "        self.n_hidden = len(self.hidden_layer_dimensions) # just to make it easier to reference\n",
    "        self.epochs = epochs\n",
    "        self.learning_rate = learning_rate\n",
    "        self.batch_size = batch_size\n",
    "        self.loss_list = np.zeros(self.epochs) # for the graph\n",
    "        self.weights = []\n",
    "\n",
    "    # forward propagation\n",
    "    def forward_prop(self, X): \n",
    "        self.z = []\n",
    "        self.h = []\n",
    "\n",
    "        # first layer\n",
    "        self.z.append(X)\n",
    "        self.h.append(X)\n",
    "        \n",
    "        # hidden layers\n",
    "        for i in range(1,self.n_hidden+1):\n",
    "            self.z.append(self.h[i-1] @ self.weights[i-1])\n",
    "            self.h.append(sigmoid(self.z[i]))\n",
    "            self.h[i] = np.c_[np.ones((self.h[i].shape[0], 1)), self.h[i]]\n",
    "\n",
    "        # output layer\n",
    "        self.z.append(self.h[-1] @ self.weights[-1])\n",
    "        self.h.append(sigmoid(self.z[-1]))\n",
    "\n",
    "        return self.h[-1]\n",
    "    \n",
    "    def backward_prop(self, X, y):\n",
    "        self.dweights = []\n",
    "        self.delta = []\n",
    "\n",
    "        # output layer (here we go backwards)\n",
    "        self.delta.append(cost_gradient(y, self.h[-1]))\n",
    "\n",
    "        # other layers\n",
    "        for i in range(self.n_hidden-1, -1, -1):\n",
    "            self.delta.append(self.delta[-1] @ self.weights[i+1][1:,:].T * sigmoid_derivate(self.z[i + 1]))\n",
    "        \n",
    "        # corrects our list of deltas so that we can update the weights\n",
    "        self.delta.reverse()\n",
    "\n",
    "        # weight update\n",
    "        for i in range(len(self.weights)):\n",
    "            self.dweights.append(self.h[i].T @ self.delta[i])\n",
    "        return self.dweights\n",
    "\n",
    "    # auxiliar functions\n",
    "    def def_weights(self, input_dim, output_dim): # initializing weights\n",
    "        return np.random.randn(input_dim , output_dim)\n",
    "    \n",
    "    def update_weights(self, dweights): # updating weights\n",
    "        for i in range(len(self.weights)):\n",
    "            self.weights[i] -= self.learning_rate * dweights[i] \n",
    "\n",
    "    def fit(self, X, y):\n",
    "        X_with_bias = np.hstack([np.ones((X.shape[0], 1)), X]) # adds bias to X\n",
    "        y_corrected = y[:,np.newaxis] # y gets second dimension\n",
    "\n",
    "        n_samples, n_features = X_with_bias.shape\n",
    "\n",
    "        # initializes weights\n",
    "        self.weights.append(self.def_weights(n_features, self.hidden_layer_dimensions[0]))\n",
    "        for i in range (self.n_hidden-1):\n",
    "            self.weights.append(self.def_weights(self.hidden_layer_dimensions[i]+ 1, self.hidden_layer_dimensions[i+1]))\n",
    "        self.weights.append(self.def_weights(self.hidden_layer_dimensions[-1]+1, 1))\n",
    "\n",
    "        # for each epoch, for each batch, do forward and backward propagation updating weights\n",
    "        n_batches = (n_samples + self.batch_size - 1)//self.batch_size\n",
    "        for i in range(self.epochs): \n",
    "            for j in range(n_batches):\n",
    "                X_batch = X_with_bias[j * self.batch_size: (j+1) * self.batch_size]\n",
    "                y_batch = y_corrected[j * self.batch_size: (j+1) * self.batch_size]\n",
    "                self.h[self.n_hidden] = self.forward_prop(X_batch)\n",
    "                dweights = self.backward_prop(X_batch, y_batch)\n",
    "                self.update_weights(dweights)\n",
    "                self.loss_list[i] = cost_function(y_batch, self.h[self.n_hidden])\n",
    "\n",
    "    def predict(self, X):\n",
    "        X_with_bias = np.c_[np.ones((X.shape[0], 1)), X]\n",
    "        return self.forward_prop(X_with_bias)\n",
    "    \n",
    "    def predict_proba(self, X):\n",
    "        X_with_bias = np.c_[np.ones((X.shape[0], 1)), X]\n",
    "\n",
    "        pred_1 = self.forward_prop(X_with_bias)\n",
    "        pred_0 = 1 - pred_1\n",
    "        return np.c_[pred_0, pred_1]"
   ]
  },
  {
   "cell_type": "markdown",
   "metadata": {},
   "source": [
    "Now that it's done, let's fit our training data and try to predict the test, choosing good parameters:"
   ]
  },
  {
   "cell_type": "code",
   "execution_count": 16,
   "metadata": {},
   "outputs": [
    {
     "name": "stdout",
     "output_type": "stream",
     "text": [
      "[[1. 0.]\n",
      " [1. 1.]\n",
      " [0. 0.]\n",
      " [0. 1.]\n",
      " [0. 0.]\n",
      " [0. 1.]\n",
      " [0. 0.]\n",
      " [1. 1.]\n",
      " [0. 0.]\n",
      " [1. 1.]\n",
      " [0. 0.]\n",
      " [0. 0.]\n",
      " [0. 0.]\n",
      " [0. 0.]\n",
      " [0. 0.]\n",
      " [1. 1.]\n",
      " [1. 1.]\n",
      " [0. 0.]\n",
      " [0. 0.]\n",
      " [1. 1.]\n",
      " [1. 1.]\n",
      " [0. 0.]\n",
      " [1. 1.]\n",
      " [0. 1.]\n",
      " [1. 1.]\n",
      " [1. 1.]\n",
      " [0. 1.]\n",
      " [0. 0.]\n",
      " [1. 1.]\n",
      " [0. 0.]\n",
      " [0. 0.]\n",
      " [0. 1.]\n",
      " [0. 0.]\n",
      " [0. 0.]\n",
      " [1. 0.]\n",
      " [0. 1.]\n",
      " [0. 1.]\n",
      " [1. 1.]\n",
      " [1. 0.]\n",
      " [1. 1.]\n",
      " [0. 0.]\n",
      " [1. 1.]\n",
      " [0. 0.]\n",
      " [0. 0.]\n",
      " [1. 1.]\n",
      " [0. 0.]\n",
      " [0. 1.]\n",
      " [0. 0.]\n",
      " [0. 1.]\n",
      " [1. 1.]\n",
      " [0. 0.]\n",
      " [1. 1.]\n",
      " [1. 1.]\n",
      " [0. 0.]\n",
      " [1. 1.]\n",
      " [0. 0.]\n",
      " [0. 0.]\n",
      " [1. 1.]\n",
      " [1. 0.]\n",
      " [1. 1.]\n",
      " [1. 1.]\n",
      " [1. 0.]\n",
      " [0. 0.]\n",
      " [1. 1.]\n",
      " [1. 1.]\n",
      " [1. 1.]\n",
      " [1. 1.]\n",
      " [0. 1.]\n",
      " [0. 0.]\n",
      " [1. 0.]\n",
      " [0. 0.]\n",
      " [0. 0.]\n",
      " [1. 1.]\n",
      " [0. 0.]\n",
      " [0. 0.]\n",
      " [1. 1.]\n",
      " [0. 1.]\n",
      " [1. 0.]\n",
      " [0. 1.]\n",
      " [1. 1.]\n",
      " [1. 1.]\n",
      " [0. 0.]\n",
      " [1. 1.]\n",
      " [0. 0.]\n",
      " [1. 1.]\n",
      " [0. 0.]\n",
      " [0. 0.]\n",
      " [1. 1.]\n",
      " [0. 0.]\n",
      " [0. 0.]\n",
      " [0. 0.]\n",
      " [1. 1.]\n",
      " [0. 0.]\n",
      " [1. 1.]\n",
      " [0. 0.]\n",
      " [1. 1.]\n",
      " [0. 1.]\n",
      " [0. 0.]\n",
      " [1. 0.]\n",
      " [1. 1.]\n",
      " [1. 1.]\n",
      " [0. 0.]\n",
      " [1. 1.]\n",
      " [1. 1.]\n",
      " [0. 0.]\n",
      " [0. 0.]\n",
      " [1. 1.]\n",
      " [0. 0.]\n",
      " [1. 1.]\n",
      " [0. 0.]\n",
      " [1. 0.]\n",
      " [0. 0.]\n",
      " [0. 1.]\n",
      " [1. 1.]\n",
      " [0. 0.]\n",
      " [0. 0.]\n",
      " [0. 0.]\n",
      " [0. 0.]\n",
      " [1. 1.]\n",
      " [1. 1.]\n",
      " [0. 0.]\n",
      " [1. 1.]\n",
      " [1. 1.]\n",
      " [1. 1.]\n",
      " [1. 1.]\n",
      " [0. 1.]\n",
      " [0. 0.]\n",
      " [0. 0.]\n",
      " [1. 1.]\n",
      " [1. 1.]\n",
      " [0. 1.]\n",
      " [0. 0.]\n",
      " [0. 0.]\n",
      " [0. 1.]\n",
      " [0. 0.]\n",
      " [1. 1.]\n",
      " [0. 0.]\n",
      " [0. 0.]\n",
      " [0. 0.]\n",
      " [0. 0.]\n",
      " [0. 0.]\n",
      " [1. 1.]\n",
      " [1. 0.]\n",
      " [1. 0.]\n",
      " [1. 1.]\n",
      " [1. 1.]\n",
      " [1. 1.]\n",
      " [1. 1.]\n",
      " [0. 0.]\n",
      " [1. 1.]\n",
      " [0. 0.]\n",
      " [0. 1.]\n",
      " [1. 1.]\n",
      " [1. 1.]\n",
      " [0. 0.]\n",
      " [1. 1.]\n",
      " [0. 0.]\n",
      " [0. 0.]\n",
      " [0. 0.]\n",
      " [0. 0.]\n",
      " [0. 0.]\n",
      " [0. 0.]\n",
      " [0. 0.]\n",
      " [1. 1.]\n",
      " [0. 0.]\n",
      " [1. 1.]\n",
      " [1. 0.]\n",
      " [1. 1.]\n",
      " [1. 0.]\n",
      " [1. 1.]\n",
      " [1. 1.]\n",
      " [0. 0.]\n",
      " [1. 0.]\n",
      " [0. 0.]\n",
      " [0. 0.]\n",
      " [0. 0.]\n",
      " [1. 1.]\n",
      " [1. 1.]\n",
      " [0. 1.]\n",
      " [0. 0.]\n",
      " [0. 0.]\n",
      " [0. 1.]\n",
      " [1. 1.]\n",
      " [0. 0.]\n",
      " [1. 1.]\n",
      " [1. 1.]\n",
      " [0. 0.]\n",
      " [1. 1.]\n",
      " [1. 1.]\n",
      " [1. 1.]\n",
      " [0. 0.]\n",
      " [0. 0.]\n",
      " [0. 1.]\n",
      " [1. 0.]\n",
      " [0. 1.]\n",
      " [1. 1.]\n",
      " [1. 1.]\n",
      " [1. 1.]\n",
      " [0. 0.]\n",
      " [1. 1.]\n",
      " [1. 0.]\n",
      " [0. 0.]\n",
      " [1. 1.]\n",
      " [0. 0.]\n",
      " [0. 1.]\n",
      " [1. 1.]\n",
      " [1. 1.]\n",
      " [0. 0.]\n",
      " [0. 1.]\n",
      " [0. 0.]\n",
      " [0. 0.]\n",
      " [0. 0.]\n",
      " [1. 1.]\n",
      " [0. 1.]\n",
      " [0. 0.]\n",
      " [0. 1.]\n",
      " [0. 0.]\n",
      " [1. 1.]\n",
      " [0. 0.]\n",
      " [0. 0.]\n",
      " [0. 0.]\n",
      " [0. 0.]\n",
      " [1. 1.]\n",
      " [1. 1.]\n",
      " [0. 1.]\n",
      " [0. 0.]\n",
      " [1. 1.]\n",
      " [0. 0.]\n",
      " [0. 0.]\n",
      " [1. 1.]\n",
      " [0. 1.]\n",
      " [0. 1.]\n",
      " [0. 0.]\n",
      " [1. 1.]\n",
      " [0. 1.]\n",
      " [1. 1.]\n",
      " [0. 0.]\n",
      " [0. 0.]\n",
      " [1. 1.]\n",
      " [1. 1.]\n",
      " [1. 1.]\n",
      " [1. 1.]\n",
      " [1. 1.]\n",
      " [1. 1.]\n",
      " [0. 0.]\n",
      " [0. 1.]\n",
      " [1. 1.]\n",
      " [0. 0.]\n",
      " [0. 0.]\n",
      " [0. 0.]\n",
      " [1. 1.]\n",
      " [0. 0.]\n",
      " [0. 0.]\n",
      " [0. 0.]\n",
      " [1. 1.]\n",
      " [0. 0.]\n",
      " [1. 1.]\n",
      " [1. 1.]\n",
      " [1. 1.]\n",
      " [1. 1.]\n",
      " [1. 1.]\n",
      " [1. 1.]\n",
      " [0. 1.]\n",
      " [0. 0.]\n",
      " [0. 0.]\n",
      " [0. 0.]\n",
      " [1. 1.]\n",
      " [0. 0.]\n",
      " [1. 1.]\n",
      " [1. 1.]\n",
      " [0. 1.]\n",
      " [0. 0.]\n",
      " [0. 0.]\n",
      " [0. 0.]\n",
      " [1. 1.]\n",
      " [1. 1.]\n",
      " [0. 1.]\n",
      " [0. 0.]\n",
      " [1. 0.]\n",
      " [1. 0.]\n",
      " [1. 1.]\n",
      " [0. 1.]\n",
      " [1. 1.]\n",
      " [1. 0.]\n",
      " [0. 0.]\n",
      " [1. 1.]\n",
      " [1. 1.]\n",
      " [1. 0.]\n",
      " [0. 0.]\n",
      " [0. 0.]\n",
      " [0. 0.]\n",
      " [1. 0.]\n",
      " [0. 0.]\n",
      " [0. 1.]\n",
      " [0. 0.]\n",
      " [0. 1.]\n",
      " [1. 1.]\n",
      " [1. 1.]\n",
      " [0. 1.]\n",
      " [0. 1.]]\n"
     ]
    }
   ],
   "source": [
    "perceptron3 = PerceptronClassifier(hidden_layer_dimensions=[10,10,10,10], epochs=100, learning_rate=0.001, batch_size=32)\n",
    "perceptron3.fit(X_train2, y_train2)\n",
    "y_predicted3 = perceptron3.predict(X_test2) > 0.5\n",
    "print(np.c_[y_predicted3, y_test2])"
   ]
  },
  {
   "cell_type": "code",
   "execution_count": 17,
   "metadata": {},
   "outputs": [
    {
     "data": {
      "image/png": "[encoded data removed]",
      "text/plain": [
       "<Figure size 432x288 with 1 Axes>"
      ]
     },
     "metadata": {
      "needs_background": "light"
     },
     "output_type": "display_data"
    }
   ],
   "source": [
    "plt.plot(perceptron3.loss_list)\n",
    "plt.show()"
   ]
  },
  {
   "cell_type": "markdown",
   "metadata": {},
   "source": [
    "The graph indicates a pretty good decrease, and the prospective is good. Let's apply some metrics to the model:"
   ]
  },
  {
   "cell_type": "code",
   "execution_count": 18,
   "metadata": {},
   "outputs": [
    {
     "name": "stdout",
     "output_type": "stream",
     "text": [
      "Accuracy: 0.8 \n",
      " AUC-PR: 0.8669767180997745 \n",
      " AUC-ROC: 0.8671499733143568\n"
     ]
    }
   ],
   "source": [
    "acc = accuracy_score(y_predicted3, y_test2)\n",
    "auc_pr = average_precision_score(y_test2, perceptron3.predict_proba(X_test2)[:, 1])\n",
    "auc_roc = roc_auc_score(y_test2, perceptron3.predict_proba(X_test2)[:, 1])\n",
    "print('Accuracy:', acc, '\\n', 'AUC-PR:', auc_pr, '\\n', 'AUC-ROC:', auc_roc)"
   ]
  },
  {
   "cell_type": "markdown",
   "metadata": {},
   "source": [
    "And, at last, let's take a look at our confusion matrix:"
   ]
  },
  {
   "cell_type": "code",
   "execution_count": 19,
   "metadata": {},
   "outputs": [
    {
     "data": {
      "image/png": "[encoded data removed]",
      "text/plain": [
       "<Figure size 432x288 with 2 Axes>"
      ]
     },
     "metadata": {
      "needs_background": "light"
     },
     "output_type": "display_data"
    }
   ],
   "source": [
    "conf_mat = confusion_matrix(y_test2, y_predicted3)\n",
    "disp = ConfusionMatrixDisplay(conf_mat)\n",
    "disp.plot()\n",
    "plt.show()"
   ]
  },
  {
   "cell_type": "markdown",
   "metadata": {},
   "source": [
    "## Part 3 – – Random forest for classification\n",
    "Let's load the dataset from the UCI archive:"
   ]
  },
  {
   "cell_type": "code",
   "execution_count": 20,
   "metadata": {},
   "outputs": [
    {
     "data": {
      "text/html": [
       "<div>\n",
       "<style scoped>\n",
       "    .dataframe tbody tr th:only-of-type {\n",
       "        vertical-align: middle;\n",
       "    }\n",
       "\n",
       "    .dataframe tbody tr th {\n",
       "        vertical-align: top;\n",
       "    }\n",
       "\n",
       "    .dataframe thead th {\n",
       "        text-align: right;\n",
       "    }\n",
       "</style>\n",
       "<table border=\"1\" class=\"dataframe\">\n",
       "  <thead>\n",
       "    <tr style=\"text-align: right;\">\n",
       "      <th></th>\n",
       "      <th>0</th>\n",
       "      <th>1</th>\n",
       "      <th>2</th>\n",
       "      <th>3</th>\n",
       "      <th>4</th>\n",
       "      <th>5</th>\n",
       "      <th>6</th>\n",
       "      <th>7</th>\n",
       "      <th>8</th>\n",
       "      <th>9</th>\n",
       "      <th>10</th>\n",
       "      <th>11</th>\n",
       "      <th>12</th>\n",
       "      <th>13</th>\n",
       "      <th>14</th>\n",
       "    </tr>\n",
       "  </thead>\n",
       "  <tbody>\n",
       "    <tr>\n",
       "      <th>22753</th>\n",
       "      <td>28</td>\n",
       "      <td>Private</td>\n",
       "      <td>266070</td>\n",
       "      <td>Some-college</td>\n",
       "      <td>10</td>\n",
       "      <td>Never-married</td>\n",
       "      <td>Exec-managerial</td>\n",
       "      <td>Not-in-family</td>\n",
       "      <td>White</td>\n",
       "      <td>Female</td>\n",
       "      <td>0</td>\n",
       "      <td>0</td>\n",
       "      <td>40</td>\n",
       "      <td>United-States</td>\n",
       "      <td>&lt;=50K</td>\n",
       "    </tr>\n",
       "    <tr>\n",
       "      <th>17888</th>\n",
       "      <td>32</td>\n",
       "      <td>Private</td>\n",
       "      <td>228265</td>\n",
       "      <td>HS-grad</td>\n",
       "      <td>9</td>\n",
       "      <td>Never-married</td>\n",
       "      <td>Handlers-cleaners</td>\n",
       "      <td>Own-child</td>\n",
       "      <td>White</td>\n",
       "      <td>Female</td>\n",
       "      <td>0</td>\n",
       "      <td>0</td>\n",
       "      <td>30</td>\n",
       "      <td>United-States</td>\n",
       "      <td>&lt;=50K</td>\n",
       "    </tr>\n",
       "    <tr>\n",
       "      <th>21122</th>\n",
       "      <td>28</td>\n",
       "      <td>Private</td>\n",
       "      <td>71733</td>\n",
       "      <td>Some-college</td>\n",
       "      <td>10</td>\n",
       "      <td>Separated</td>\n",
       "      <td>Other-service</td>\n",
       "      <td>Unmarried</td>\n",
       "      <td>White</td>\n",
       "      <td>Female</td>\n",
       "      <td>0</td>\n",
       "      <td>0</td>\n",
       "      <td>15</td>\n",
       "      <td>United-States</td>\n",
       "      <td>&lt;=50K</td>\n",
       "    </tr>\n",
       "    <tr>\n",
       "      <th>5579</th>\n",
       "      <td>27</td>\n",
       "      <td>Private</td>\n",
       "      <td>255582</td>\n",
       "      <td>HS-grad</td>\n",
       "      <td>9</td>\n",
       "      <td>Never-married</td>\n",
       "      <td>Machine-op-inspct</td>\n",
       "      <td>Not-in-family</td>\n",
       "      <td>White</td>\n",
       "      <td>Female</td>\n",
       "      <td>0</td>\n",
       "      <td>0</td>\n",
       "      <td>40</td>\n",
       "      <td>United-States</td>\n",
       "      <td>&lt;=50K</td>\n",
       "    </tr>\n",
       "    <tr>\n",
       "      <th>26647</th>\n",
       "      <td>40</td>\n",
       "      <td>Local-gov</td>\n",
       "      <td>99679</td>\n",
       "      <td>Prof-school</td>\n",
       "      <td>15</td>\n",
       "      <td>Never-married</td>\n",
       "      <td>Exec-managerial</td>\n",
       "      <td>Not-in-family</td>\n",
       "      <td>White</td>\n",
       "      <td>Male</td>\n",
       "      <td>0</td>\n",
       "      <td>0</td>\n",
       "      <td>60</td>\n",
       "      <td>United-States</td>\n",
       "      <td>&gt;50K</td>\n",
       "    </tr>\n",
       "    <tr>\n",
       "      <th>...</th>\n",
       "      <td>...</td>\n",
       "      <td>...</td>\n",
       "      <td>...</td>\n",
       "      <td>...</td>\n",
       "      <td>...</td>\n",
       "      <td>...</td>\n",
       "      <td>...</td>\n",
       "      <td>...</td>\n",
       "      <td>...</td>\n",
       "      <td>...</td>\n",
       "      <td>...</td>\n",
       "      <td>...</td>\n",
       "      <td>...</td>\n",
       "      <td>...</td>\n",
       "      <td>...</td>\n",
       "    </tr>\n",
       "    <tr>\n",
       "      <th>24387</th>\n",
       "      <td>38</td>\n",
       "      <td>Private</td>\n",
       "      <td>115289</td>\n",
       "      <td>HS-grad</td>\n",
       "      <td>9</td>\n",
       "      <td>Married-civ-spouse</td>\n",
       "      <td>Machine-op-inspct</td>\n",
       "      <td>Husband</td>\n",
       "      <td>White</td>\n",
       "      <td>Male</td>\n",
       "      <td>0</td>\n",
       "      <td>0</td>\n",
       "      <td>40</td>\n",
       "      <td>United-States</td>\n",
       "      <td>&lt;=50K</td>\n",
       "    </tr>\n",
       "    <tr>\n",
       "      <th>18897</th>\n",
       "      <td>30</td>\n",
       "      <td>Local-gov</td>\n",
       "      <td>178383</td>\n",
       "      <td>Some-college</td>\n",
       "      <td>10</td>\n",
       "      <td>Separated</td>\n",
       "      <td>Handlers-cleaners</td>\n",
       "      <td>Not-in-family</td>\n",
       "      <td>Black</td>\n",
       "      <td>Male</td>\n",
       "      <td>0</td>\n",
       "      <td>0</td>\n",
       "      <td>40</td>\n",
       "      <td>United-States</td>\n",
       "      <td>&lt;=50K</td>\n",
       "    </tr>\n",
       "    <tr>\n",
       "      <th>26912</th>\n",
       "      <td>32</td>\n",
       "      <td>Self-emp-inc</td>\n",
       "      <td>103078</td>\n",
       "      <td>Bachelors</td>\n",
       "      <td>13</td>\n",
       "      <td>Married-civ-spouse</td>\n",
       "      <td>Sales</td>\n",
       "      <td>Husband</td>\n",
       "      <td>White</td>\n",
       "      <td>Male</td>\n",
       "      <td>0</td>\n",
       "      <td>0</td>\n",
       "      <td>40</td>\n",
       "      <td>United-States</td>\n",
       "      <td>&lt;=50K</td>\n",
       "    </tr>\n",
       "    <tr>\n",
       "      <th>6736</th>\n",
       "      <td>22</td>\n",
       "      <td>Private</td>\n",
       "      <td>199555</td>\n",
       "      <td>Some-college</td>\n",
       "      <td>10</td>\n",
       "      <td>Never-married</td>\n",
       "      <td>Farming-fishing</td>\n",
       "      <td>Own-child</td>\n",
       "      <td>White</td>\n",
       "      <td>Male</td>\n",
       "      <td>0</td>\n",
       "      <td>0</td>\n",
       "      <td>25</td>\n",
       "      <td>United-States</td>\n",
       "      <td>&lt;=50K</td>\n",
       "    </tr>\n",
       "    <tr>\n",
       "      <th>22755</th>\n",
       "      <td>25</td>\n",
       "      <td>Local-gov</td>\n",
       "      <td>31873</td>\n",
       "      <td>Bachelors</td>\n",
       "      <td>13</td>\n",
       "      <td>Never-married</td>\n",
       "      <td>Adm-clerical</td>\n",
       "      <td>Not-in-family</td>\n",
       "      <td>White</td>\n",
       "      <td>Female</td>\n",
       "      <td>0</td>\n",
       "      <td>0</td>\n",
       "      <td>40</td>\n",
       "      <td>United-States</td>\n",
       "      <td>&lt;=50K</td>\n",
       "    </tr>\n",
       "  </tbody>\n",
       "</table>\n",
       "<p>3000 rows × 15 columns</p>\n",
       "</div>"
      ],
      "text/plain": [
       "       0              1       2              3   4                    5   \\\n",
       "22753  28        Private  266070   Some-college  10        Never-married   \n",
       "17888  32        Private  228265        HS-grad   9        Never-married   \n",
       "21122  28        Private   71733   Some-college  10            Separated   \n",
       "5579   27        Private  255582        HS-grad   9        Never-married   \n",
       "26647  40      Local-gov   99679    Prof-school  15        Never-married   \n",
       "...    ..            ...     ...            ...  ..                  ...   \n",
       "24387  38        Private  115289        HS-grad   9   Married-civ-spouse   \n",
       "18897  30      Local-gov  178383   Some-college  10            Separated   \n",
       "26912  32   Self-emp-inc  103078      Bachelors  13   Married-civ-spouse   \n",
       "6736   22        Private  199555   Some-college  10        Never-married   \n",
       "22755  25      Local-gov   31873      Bachelors  13        Never-married   \n",
       "\n",
       "                       6               7       8        9   10  11  12  \\\n",
       "22753     Exec-managerial   Not-in-family   White   Female   0   0  40   \n",
       "17888   Handlers-cleaners       Own-child   White   Female   0   0  30   \n",
       "21122       Other-service       Unmarried   White   Female   0   0  15   \n",
       "5579    Machine-op-inspct   Not-in-family   White   Female   0   0  40   \n",
       "26647     Exec-managerial   Not-in-family   White     Male   0   0  60   \n",
       "...                   ...             ...     ...      ...  ..  ..  ..   \n",
       "24387   Machine-op-inspct         Husband   White     Male   0   0  40   \n",
       "18897   Handlers-cleaners   Not-in-family   Black     Male   0   0  40   \n",
       "26912               Sales         Husband   White     Male   0   0  40   \n",
       "6736      Farming-fishing       Own-child   White     Male   0   0  25   \n",
       "22755        Adm-clerical   Not-in-family   White   Female   0   0  40   \n",
       "\n",
       "                   13      14  \n",
       "22753   United-States   <=50K  \n",
       "17888   United-States   <=50K  \n",
       "21122   United-States   <=50K  \n",
       "5579    United-States   <=50K  \n",
       "26647   United-States    >50K  \n",
       "...               ...     ...  \n",
       "24387   United-States   <=50K  \n",
       "18897   United-States   <=50K  \n",
       "26912   United-States   <=50K  \n",
       "6736    United-States   <=50K  \n",
       "22755   United-States   <=50K  \n",
       "\n",
       "[3000 rows x 15 columns]"
      ]
     },
     "execution_count": 20,
     "metadata": {},
     "output_type": "execute_result"
    }
   ],
   "source": [
    "data3 = pd.read_table('adultdata.csv', sep=',', header = None)\n",
    "data3 = data3.sample(3000)\n",
    "data3"
   ]
  },
  {
   "cell_type": "markdown",
   "metadata": {},
   "source": [
    "As always, it's needed to divide it in X and y, and also into training and testing sets:"
   ]
  },
  {
   "cell_type": "code",
   "execution_count": 21,
   "metadata": {},
   "outputs": [],
   "source": [
    "X3 = data3.loc[:, 0:13].to_numpy()\n",
    "y3 = data3.loc[:, 14].to_numpy()\n",
    "y3= y3[:,np.newaxis]\n",
    "X_train3, X_test3, y_train3, y_test3 = train_test_split(X3, y3, test_size = 0.3)"
   ]
  },
  {
   "cell_type": "markdown",
   "metadata": {},
   "source": [
    "Now we can write our code for the decision tree. Note that we wish to implement a Random Forest Algorithm, but it's basically a bunch of decision trees that go through bagging (bootstraping and aggregation). For the tree itself, we'll need a class Node, to keep our moves in track for recursion. In the Data Structures discipline we've done this quite a lot, so it seems like the best way to develop this code."
   ]
  },
  {
   "cell_type": "code",
   "execution_count": 22,
   "metadata": {},
   "outputs": [],
   "source": [
    "class Node():\n",
    "    def __init__(self, feat_index=None, threshold=None, left=None, right=None, info_gain=None, value=None):\n",
    "        self.feat_index = feat_index\n",
    "        self.threshold = threshold\n",
    "        self.left = left\n",
    "        self.right = right\n",
    "        self.info_gain = info_gain\n",
    "        self.value = value #used in leafs, stores the predicted value\n",
    "\n",
    "class DecisionTreeClassifier():\n",
    "    def __init__(self, min_samples=2, max_depth=2):\n",
    "        self.min_samples = min_samples\n",
    "        self.max_depth = max_depth\n",
    "        self.root = None\n",
    "                            \n",
    "    def build_tree(self, X, y, depth = 0):\n",
    "        if X.shape[0]>=self.min_samples and depth<=self.max_depth:\n",
    "            best_split = self.get_best_split(X, y)\n",
    "            if 'info_gain' not in best_split.keys():\n",
    "                best_split['info_gain'] = -float(\"inf\")\n",
    "            if best_split['info_gain']>0:\n",
    "                left_recur = self.build_tree(best_split['left_X'], best_split['left_y'], depth+1)\n",
    "                right_recur = self.build_tree(best_split['right_X'], best_split['right_y'], depth+1)\n",
    "                # as criteria wasn't met, we return a decision node\n",
    "                return Node(best_split['feat_index'], best_split['threshold'], left_recur, right_recur, best_split['info_gain'], None)\n",
    "\n",
    "        # if criteria was met, we return a leaf node\n",
    "        leaf_value = self.calculate_leaf_value(y)\n",
    "        return Node(value=leaf_value)\n",
    "    \n",
    "    def get_best_split(self, X, y):\n",
    "        best_split = {}\n",
    "        max_info_gain = -float(\"inf\")\n",
    "\n",
    "        for feat_index in range(X.shape[1]): \n",
    "            thresholds = np.unique(X[:,feat_index])\n",
    "            # get all unique values to try for this feature\n",
    "            for threshold in thresholds:\n",
    "                left_X, left_y, right_X, right_y = self.split(X, y, feat_index, threshold)\n",
    "                if len(left_X)>0 and len(right_X)>0:\n",
    "                    curr_info_gain = self.information_gain(y, left_y, right_y)\n",
    "                    # if info gain is greater than the best info gain, we update the best split\n",
    "                    if curr_info_gain>max_info_gain:\n",
    "                        best_split[\"feat_index\"] = feat_index\n",
    "                        best_split[\"threshold\"] = threshold\n",
    "                        best_split[\"left_X\"] = left_X\n",
    "                        best_split[\"left_y\"] = left_y\n",
    "                        best_split[\"right_X\"] = right_X\n",
    "                        best_split[\"right_y\"] = right_y\n",
    "                        best_split[\"info_gain\"] = curr_info_gain\n",
    "                        max_info_gain = curr_info_gain\n",
    "        return best_split\n",
    "    \n",
    "    def fit(self, X, y):\n",
    "        self.root = self.build_tree(X, y)\n",
    "\n",
    "    def split(self, X, y, feat_index, threshold):\n",
    "        left_X = X[X[:, feat_index] <= threshold]\n",
    "        left_y = y[X[:, feat_index] <= threshold]\n",
    "        right_X = X[X[:, feat_index] > threshold]\n",
    "        right_y = y[X[:, feat_index] > threshold]\n",
    "        return left_X, left_y, right_X, right_y\n",
    "\n",
    "    def information_gain(self, y, left_node, right_node):       \n",
    "        calc_left = len(left_node) / y.shape[0]\n",
    "        calc_right = len(right_node) / y.shape[0]\n",
    "        # calculates entropy to check information gain on a possible split\n",
    "        gain = self.entropy(y) - (calc_left*self.entropy(left_node) + calc_right*self.entropy(right_node))\n",
    "        return gain\n",
    "    \n",
    "    def entropy(self, y):\n",
    "        # entropy calc\n",
    "        classes = np.unique(y)\n",
    "        entropy = 0\n",
    "\n",
    "        for c in classes:\n",
    "            p = len(y[y==c])/y.shape[0]\n",
    "            entropy += -p * np.log2(p)\n",
    "        return entropy\n",
    "    \n",
    "    def calculate_leaf_value(self, y):\n",
    "        y = list(y)\n",
    "        return max(y, key=y.count)\n",
    "\n",
    "    def predict(self, X):\n",
    "        return np.array([self.predict_row(row) for row in X])\n",
    "\n",
    "    def predict_row(self, row):\n",
    "        node = self.root\n",
    "        while node.value is None:\n",
    "            if row[node.feat_index] <= node.threshold:\n",
    "                node = node.left\n",
    "            else:\n",
    "                node = node.right\n",
    "        return node.value"
   ]
  },
  {
   "cell_type": "markdown",
   "metadata": {},
   "source": [
    "Let's try the code:"
   ]
  },
  {
   "cell_type": "code",
   "execution_count": 23,
   "metadata": {},
   "outputs": [],
   "source": [
    "tree = DecisionTreeClassifier(min_samples=2,max_depth=2)\n",
    "tree.fit(X_train3, y_train3)"
   ]
  },
  {
   "cell_type": "markdown",
   "metadata": {},
   "source": [
    "The tree seems to make sense! Let's check our predictions and, at last, accuracy of the model:"
   ]
  },
  {
   "cell_type": "code",
   "execution_count": 24,
   "metadata": {},
   "outputs": [
    {
     "data": {
      "text/plain": [
       "array([[' <=50K', ' <=50K'],\n",
       "       [' >50K', ' >50K'],\n",
       "       [' <=50K', ' <=50K'],\n",
       "       [' <=50K', ' <=50K'],\n",
       "       [' <=50K', ' <=50K'],\n",
       "       [' <=50K', ' <=50K'],\n",
       "       [' <=50K', ' <=50K'],\n",
       "       [' <=50K', ' <=50K'],\n",
       "       [' <=50K', ' <=50K'],\n",
       "       [' <=50K', ' >50K']], dtype=object)"
      ]
     },
     "execution_count": 24,
     "metadata": {},
     "output_type": "execute_result"
    }
   ],
   "source": [
    "np.c_[tree.predict(X_test3)[0:10], y_test3[0:10]]"
   ]
  },
  {
   "cell_type": "code",
   "execution_count": 25,
   "metadata": {},
   "outputs": [
    {
     "data": {
      "text/plain": [
       "0.8088888888888889"
      ]
     },
     "execution_count": 25,
     "metadata": {},
     "output_type": "execute_result"
    }
   ],
   "source": [
    "acc = accuracy_score(y_test3, tree.predict(X_test3))\n",
    "acc"
   ]
  },
  {
   "cell_type": "markdown",
   "metadata": {},
   "source": [
    "Let's move on to the Random Forest:"
   ]
  },
  {
   "cell_type": "code",
   "execution_count": 26,
   "metadata": {},
   "outputs": [],
   "source": [
    "# auxiliar function to predict\n",
    "def most_common_label(y):\n",
    "        return dict(zip(*np.unique(y, return_counts=True)))\n",
    "\n",
    "class RandomForest():\n",
    "    def __init__(self, n_trees=10, min_samples=5, max_depth=3):\n",
    "        self.n_trees = n_trees\n",
    "        self.min_samples = min_samples\n",
    "        self.max_depth = max_depth\n",
    "        self.trees = []\n",
    "        self.lista = []\n",
    "\n",
    "    def bootstrap_sample(self, X, y):\n",
    "        # we should be able to call this function to generate subsets of X with the same number of samples, but randomly (and possibly with repeated lines)\n",
    "        sample_indices = np.random.randint(low=0, high=len(X), size=len(X))\n",
    "        return X[sample_indices], y[sample_indices]\n",
    "\n",
    "    def aggregate_predictions(self, X, y):\n",
    "        num_col = round(np.log(X.shape[1]))\n",
    "        sample_indices = np.random.choice(X.shape[1], size=(X.shape[1]-num_col), replace=False)\n",
    "        X[:,sample_indices] = 0\n",
    "        return X, y\n",
    "\n",
    "    def fit(self, X, y):\n",
    "        for t in range(self.n_trees):\n",
    "            X_sample, y_sample = self.bootstrap_sample(X, y)\n",
    "            X_sample, y_sample = self.aggregate_predictions(X_sample, y_sample)\n",
    "            tree = DecisionTreeClassifier(min_samples=self.min_samples, max_depth=self.max_depth)\n",
    "            tree.fit(X_sample, y_sample)\n",
    "            self.trees.append(tree)\n",
    "        \n",
    "    def predict(self, X):\n",
    "        predictions = np.array([tree.predict(X) for tree in self.trees])\n",
    "        predictions = np.swapaxes(predictions, 0, 1)\n",
    "        temp = np.array([most_common_label(pred) for pred in predictions])\n",
    "\n",
    "        for row in temp:\n",
    "            self.lista.append(max(row, key = row.get))\n",
    "        return np.array(self.lista).reshape(-1,1) \n",
    "    \n",
    "    def predict_proba(self, X):\n",
    "        predictions = np.array([tree.predict(X) for tree in self.trees])\n",
    "        predictions = np.swapaxes(predictions, 0, 1)\n",
    "        return predictions"
   ]
  },
  {
   "cell_type": "code",
   "execution_count": 27,
   "metadata": {},
   "outputs": [],
   "source": [
    "rf = RandomForest(n_trees=11, min_samples=2, max_depth=2)\n",
    "rf.fit(X_train3, y_train3)\n",
    "y_pred = rf.predict(X_test3)"
   ]
  },
  {
   "cell_type": "code",
   "execution_count": 28,
   "metadata": {},
   "outputs": [
    {
     "data": {
      "text/plain": [
       "0.7655555555555555"
      ]
     },
     "execution_count": 28,
     "metadata": {},
     "output_type": "execute_result"
    }
   ],
   "source": [
    "acc = accuracy_score(y_test3, y_pred)\n",
    "acc"
   ]
  },
  {
   "cell_type": "markdown",
   "metadata": {},
   "source": [
    "## Part 4 - Performance comparison\n",
    "\n",
    "Now we wish to use our Multilayer Perceptron and Random Forest on the dataset 2, and also on 3 other classifiers from sklearn, and I chose KNN, Adaboost and GaussianNB. We'll train them, do predictions on the test set. Let's check the accuracies:\n"
   ]
  },
  {
   "cell_type": "code",
   "execution_count": null,
   "metadata": {},
   "outputs": [
    {
     "data": {
      "text/plain": [
       "0.85"
      ]
     },
     "execution_count": 76,
     "metadata": {},
     "output_type": "execute_result"
    }
   ],
   "source": [
    "perceptron_data2 = PerceptronClassifier(hidden_layer_dimensions=[10,10,10,10], epochs=100, learning_rate=0.001, batch_size=32)\n",
    "perceptron_data2.fit(X_train2, y_train2)\n",
    "y_perceptron2 = perceptron_data2.predict(X_test2) > 0.5\n",
    "acc = accuracy_score(y_test2, y_perceptron2)\n",
    "acc"
   ]
  },
  {
   "cell_type": "code",
   "execution_count": null,
   "metadata": {},
   "outputs": [
    {
     "data": {
      "text/plain": [
       "0.9066666666666666"
      ]
     },
     "execution_count": 77,
     "metadata": {},
     "output_type": "execute_result"
    }
   ],
   "source": [
    "randomforest_data2 = RandomForest(n_trees=11, min_samples=2, max_depth=2)\n",
    "randomforest_data2.fit(X_train2, y_train2)\n",
    "y_randomforest2 = randomforest_data2.predict(X_test2)\n",
    "acc = accuracy_score(y_test2, y_randomforest2)\n",
    "acc"
   ]
  },
  {
   "cell_type": "code",
   "execution_count": null,
   "metadata": {},
   "outputs": [
    {
     "data": {
      "text/plain": [
       "0.9266666666666666"
      ]
     },
     "execution_count": 78,
     "metadata": {},
     "output_type": "execute_result"
    }
   ],
   "source": [
    "knn = KNeighborsClassifier(n_neighbors=3)\n",
    "knn.fit(X_train2, y_train2)\n",
    "y_knn2 = knn.predict(X_test2)\n",
    "acc = accuracy_score(y_test2, y_knn2)\n",
    "acc"
   ]
  },
  {
   "cell_type": "code",
   "execution_count": null,
   "metadata": {},
   "outputs": [
    {
     "data": {
      "text/plain": [
       "0.9233333333333333"
      ]
     },
     "execution_count": 79,
     "metadata": {},
     "output_type": "execute_result"
    }
   ],
   "source": [
    "adaboost = AdaBoostClassifier(n_estimators=100)\n",
    "adaboost.fit(X_train2, y_train2)\n",
    "y_adaboost2 = adaboost.predict(X_test2)\n",
    "acc = accuracy_score(y_test2, y_adaboost2)\n",
    "acc"
   ]
  },
  {
   "cell_type": "code",
   "execution_count": null,
   "metadata": {},
   "outputs": [
    {
     "data": {
      "text/plain": [
       "0.7866666666666666"
      ]
     },
     "execution_count": 80,
     "metadata": {},
     "output_type": "execute_result"
    }
   ],
   "source": [
    "gaussiannb = GaussianNB()\n",
    "gaussiannb.fit(X_train2, y_train2)\n",
    "y_gaussiannb2 = gaussiannb.predict(X_test2)\n",
    "acc = accuracy_score(y_test2, y_gaussiannb2)\n",
    "acc"
   ]
  },
  {
   "cell_type": "markdown",
   "metadata": {},
   "source": [
    "Now let's try some performance metrics on each of them:"
   ]
  },
  {
   "cell_type": "code",
   "execution_count": null,
   "metadata": {},
   "outputs": [
    {
     "name": "stdout",
     "output_type": "stream",
     "text": [
      "Perceptron: \n",
      " Precision: 0.918918918918919 \n",
      " Recall 0.8047337278106509 \n",
      " AUC-ROC: 0.9155336736076607 \n",
      " AUC-PR: 0.9383921044150177\n"
     ]
    }
   ],
   "source": [
    "# perceptron\n",
    "precision_perc = precision_score(y_test2, y_perceptron2)\n",
    "recall_perc = recall_score(y_test2, y_perceptron2)\n",
    "auc_roc_perc = roc_auc_score(y_test2, perceptron_data2.predict_proba(X_test2)[:, 1])\n",
    "auc_pr_perc = average_precision_score(y_test2, perceptron_data2.predict_proba(X_test2)[:, 1])\n",
    "print('Perceptron:', '\\n', 'Precision:', precision_perc, '\\n', 'Recall', recall_perc, '\\n', 'AUC-ROC:', auc_roc_perc, '\\n', 'AUC-PR:', auc_pr_perc)"
   ]
  },
  {
   "cell_type": "code",
   "execution_count": null,
   "metadata": {},
   "outputs": [
    {
     "name": "stdout",
     "output_type": "stream",
     "text": [
      "Random Forest: \n",
      " Precision: 0.873015873015873 \n",
      " Recall 0.9763313609467456 \n",
      " AUC-ROC: 0.8183070599394733 \n",
      " AUC-PR: 0.7949901380670612\n"
     ]
    }
   ],
   "source": [
    "# random forest\n",
    "precision_rf = precision_score(y_test2, y_randomforest2)\n",
    "recall_rf = recall_score(y_test2, y_randomforest2)\n",
    "auc_roc_rf = roc_auc_score(y_test2, randomforest_data2.predict_proba(X_test2)[:, 1])\n",
    "auc_pr_rf = average_precision_score(y_test2, randomforest_data2.predict_proba(X_test2)[:, 1])\n",
    "print('Random Forest:', '\\n', 'Precision:', precision_rf, '\\n', 'Recall', recall_rf, '\\n', 'AUC-ROC:', auc_roc_rf, '\\n', 'AUC-PR:', auc_pr_rf)"
   ]
  },
  {
   "cell_type": "code",
   "execution_count": null,
   "metadata": {},
   "outputs": [
    {
     "name": "stdout",
     "output_type": "stream",
     "text": [
      "KNN: \n",
      " Precision: 0.9248554913294798 \n",
      " Recall 0.9467455621301775 \n",
      " AUC-ROC: 0.9344821355978139 \n",
      " AUC-PR: 0.9166959799152976\n"
     ]
    }
   ],
   "source": [
    "# knn\n",
    "precision_knn = precision_score(y_test2, y_knn2)\n",
    "recall_knn = recall_score(y_test2, y_knn2)\n",
    "auc_roc_knn = roc_auc_score(y_test2, knn.predict_proba(X_test2)[:, 1])\n",
    "auc_pr_knn = average_precision_score(y_test2, knn.predict_proba(X_test2)[:, 1])\n",
    "print('KNN:', '\\n', 'Precision:', precision_knn, '\\n', 'Recall', recall_knn, '\\n', 'AUC-ROC:', auc_roc_knn, '\\n', 'AUC-PR:', auc_pr_knn)"
   ]
  },
  {
   "cell_type": "code",
   "execution_count": null,
   "metadata": {},
   "outputs": [
    {
     "name": "stdout",
     "output_type": "stream",
     "text": [
      "Adaboost: \n",
      " Precision: 0.9244186046511628 \n",
      " Recall 0.9408284023668639 \n",
      " AUC-ROC: 0.9688106960567326 \n",
      " AUC-PR: 0.9755586213568668\n"
     ]
    }
   ],
   "source": [
    "# adaboost\n",
    "precision_ad = precision_score(y_test2, y_adaboost2)\n",
    "recall_ad = recall_score(y_test2, y_adaboost2)\n",
    "auc_roc_ad = roc_auc_score(y_test2, adaboost.predict_proba(X_test2)[:, 1])\n",
    "auc_pr_ad = average_precision_score(y_test2, adaboost.predict_proba(X_test2)[:, 1])\n",
    "print('Adaboost:', '\\n', 'Precision:', precision_ad, '\\n', 'Recall', recall_ad, '\\n', 'AUC-ROC:', auc_roc_ad, '\\n', 'AUC-PR:', auc_pr_ad)"
   ]
  },
  {
   "cell_type": "code",
   "execution_count": null,
   "metadata": {},
   "outputs": [
    {
     "name": "stdout",
     "output_type": "stream",
     "text": [
      "Gaussian Naive Bayes: \n",
      " Precision: 0.7932960893854749 \n",
      " Recall 0.8402366863905325 \n",
      " AUC-ROC: 0.9064095035909481 \n",
      " AUC-PR: 0.9275394932246566\n"
     ]
    }
   ],
   "source": [
    "# gaussian naive bayes\n",
    "precision_nv = precision_score(y_test2, y_gaussiannb2)\n",
    "recall_nv = recall_score(y_test2, y_gaussiannb2)\n",
    "auc_roc_nv = roc_auc_score(y_test2, gaussiannb.predict_proba(X_test2)[:, 1])\n",
    "auc_pr_nv = average_precision_score(y_test2, gaussiannb.predict_proba(X_test2)[:, 1])\n",
    "print('Gaussian Naive Bayes:', '\\n', 'Precision:', precision_nv, '\\n', 'Recall', recall_nv, '\\n', 'AUC-ROC:', auc_roc_nv, '\\n', 'AUC-PR:', auc_pr_nv)"
   ]
  },
  {
   "cell_type": "markdown",
   "metadata": {},
   "source": [
    "Now we'll do the comparison report. Here's the table with all the metrics we've calculated"
   ]
  },
  {
   "cell_type": "code",
   "execution_count": null,
   "metadata": {},
   "outputs": [
    {
     "data": {
      "text/html": [
       "<div>\n",
       "<style scoped>\n",
       "    .dataframe tbody tr th:only-of-type {\n",
       "        vertical-align: middle;\n",
       "    }\n",
       "\n",
       "    .dataframe tbody tr th {\n",
       "        vertical-align: top;\n",
       "    }\n",
       "\n",
       "    .dataframe thead th {\n",
       "        text-align: right;\n",
       "    }\n",
       "</style>\n",
       "<table border=\"1\" class=\"dataframe\">\n",
       "  <thead>\n",
       "    <tr style=\"text-align: right;\">\n",
       "      <th></th>\n",
       "      <th>Model</th>\n",
       "      <th>Precision</th>\n",
       "      <th>Recall</th>\n",
       "      <th>AUC-ROC</th>\n",
       "      <th>AUC-PR</th>\n",
       "    </tr>\n",
       "  </thead>\n",
       "  <tbody>\n",
       "    <tr>\n",
       "      <th>0</th>\n",
       "      <td>Perceptron</td>\n",
       "      <td>0.918919</td>\n",
       "      <td>0.804734</td>\n",
       "      <td>0.915534</td>\n",
       "      <td>0.938392</td>\n",
       "    </tr>\n",
       "    <tr>\n",
       "      <th>1</th>\n",
       "      <td>Random Forest</td>\n",
       "      <td>0.873016</td>\n",
       "      <td>0.976331</td>\n",
       "      <td>0.818307</td>\n",
       "      <td>0.794990</td>\n",
       "    </tr>\n",
       "    <tr>\n",
       "      <th>2</th>\n",
       "      <td>KNN</td>\n",
       "      <td>0.924855</td>\n",
       "      <td>0.946746</td>\n",
       "      <td>0.934482</td>\n",
       "      <td>0.916696</td>\n",
       "    </tr>\n",
       "    <tr>\n",
       "      <th>3</th>\n",
       "      <td>Adaboost</td>\n",
       "      <td>0.924419</td>\n",
       "      <td>0.940828</td>\n",
       "      <td>0.968811</td>\n",
       "      <td>0.975559</td>\n",
       "    </tr>\n",
       "    <tr>\n",
       "      <th>4</th>\n",
       "      <td>Gaussian Naive Bayes</td>\n",
       "      <td>0.793296</td>\n",
       "      <td>0.840237</td>\n",
       "      <td>0.906410</td>\n",
       "      <td>0.927539</td>\n",
       "    </tr>\n",
       "  </tbody>\n",
       "</table>\n",
       "</div>"
      ],
      "text/plain": [
       "                  Model  Precision    Recall   AUC-ROC    AUC-PR\n",
       "0            Perceptron   0.918919  0.804734  0.915534  0.938392\n",
       "1         Random Forest   0.873016  0.976331  0.818307  0.794990\n",
       "2                   KNN   0.924855  0.946746  0.934482  0.916696\n",
       "3              Adaboost   0.924419  0.940828  0.968811  0.975559\n",
       "4  Gaussian Naive Bayes   0.793296  0.840237  0.906410  0.927539"
      ]
     },
     "execution_count": 86,
     "metadata": {},
     "output_type": "execute_result"
    }
   ],
   "source": [
    "header = ['Model', 'Precision', 'Recall', 'AUC-ROC', 'AUC-PR']\n",
    "perceptron_ = ['Perceptron', precision_perc, recall_perc, auc_roc_perc, auc_pr_perc]\n",
    "randomforest_ = ['Random Forest', precision_rf, recall_rf, auc_roc_rf, auc_pr_rf]\n",
    "knn_ = ['KNN', precision_knn, recall_knn, auc_roc_knn, auc_pr_knn]\n",
    "adaboost_ = ['Adaboost', precision_ad, recall_ad, auc_roc_ad, auc_pr_ad]\n",
    "gaussiannb_ = ['Gaussian Naive Bayes', precision_nv, recall_nv, auc_roc_nv, auc_pr_nv]\n",
    "\n",
    "models_df = pd.DataFrame([perceptron_, randomforest_, knn_, adaboost_, gaussiannb_], columns = header)\n",
    "models_df"
   ]
  },
  {
   "cell_type": "markdown",
   "metadata": {},
   "source": [
    "And at very last, here is the plot of ROC and PR curves of all classifiers:"
   ]
  },
  {
   "cell_type": "code",
   "execution_count": null,
   "metadata": {},
   "outputs": [
    {
     "data": {
      "text/plain": [
       "<matplotlib.legend.Legend at 0x20f6745fc10>"
      ]
     },
     "execution_count": 88,
     "metadata": {},
     "output_type": "execute_result"
    },
    {
     "data": {
      "image/png": "[encoded data removed]",
      "text/plain": [
       "<Figure size 1440x360 with 2 Axes>"
      ]
     },
     "metadata": {
      "needs_background": "light"
     },
     "output_type": "display_data"
    }
   ],
   "source": [
    "fig, ax = plt.subplots(1, 2, figsize = (20,5))\n",
    "\n",
    "for proba in [perceptron_data2.predict_proba(X_test2)[:, 1],randomforest_data2.predict_proba(X_test2)[:, 1],knn.predict_proba(X_test2)[:, 1], adaboost.predict_proba(X_test2)[:, 1], gaussiannb.predict_proba(X_test2)[:, 1]]:\n",
    "    i, j, thresholds = roc_curve(y_test2, proba)\n",
    "    ax[0].plot(i, j, label = 'ROC curve')\n",
    "\n",
    "for proba in [perceptron_data2.predict_proba(X_test2)[:, 1],randomforest_data2.predict_proba(X_test2)[:, 1],knn.predict_proba(X_test2)[:, 1], adaboost.predict_proba(X_test2)[:, 1], gaussiannb.predict_proba(X_test2)[:, 1]]:\n",
    "    precision, recall, thresholds = precision_recall_curve(y_test2, proba)\n",
    "    ax[1].plot(recall, precision, label = 'PR curve')\n",
    "\n",
    "ax[0].set_title('ROC')\n",
    "ax[1].set_title('PR')\n",
    "ax[0].legend(['Multilayer Perceptron', 'Random Forest', 'KNN', 'Adaboost', 'Gaussian Naive Bayes'])\n",
    "ax[1].legend(['Multilayer Perceptron', 'Random Forest', 'KNN', 'Adaboost', 'Gaussian Naive Bayes'])"
   ]
  }
 ],
 "metadata": {
  "interpreter": {
   "hash": "350bdfe4fe42b08437cae5afb973e5383729de58e8a12da3833d01445de5962a"
  },
  "kernelspec": {
   "display_name": "Python 3.10.4 64-bit",
   "language": "python",
   "name": "python3"
  },
  "language_info": {
   "codemirror_mode": {
    "name": "ipython",
    "version": 3
   },
   "file_extension": ".py",
   "mimetype": "text/x-python",
   "name": "python",
   "nbconvert_exporter": "python",
   "pygments_lexer": "ipython3",
   "version": "3.10.4"
  },
  "orig_nbformat": 4
 },
 "nbformat": 4,
 "nbformat_minor": 2
}
